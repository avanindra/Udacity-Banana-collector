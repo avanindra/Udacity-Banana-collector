{
 "cells": [
  {
   "cell_type": "markdown",
   "source": [
    "# Navigation\n",
    "\n",
    "---\n",
    "\n",
    "In this notebook, you will learn how to use the Unity ML-Agents environment for the first project of the [Deep Reinforcement Learning Nanodegree](https://www.udacity.com/course/deep-reinforcement-learning-nanodegree--nd893).\n",
    "\n",
    "### 1. Start the Environment\n",
    "\n",
    "We begin by importing some necessary packages.  If the code cell below returns an error, please revisit the project instructions to double-check that you have installed [Unity ML-Agents](https://github.com/Unity-Technologies/ml-agents/blob/master/docs/Installation.md) and [NumPy](http://www.numpy.org/)."
   ],
   "metadata": {}
  },
  {
   "cell_type": "code",
   "execution_count": null,
   "source": [
    "from unityagents import UnityEnvironment\r\n",
    "import numpy as np"
   ],
   "outputs": [],
   "metadata": {}
  },
  {
   "cell_type": "markdown",
   "source": [
    "Next, we will start the environment!  **_Before running the code cell below_**, change the `file_name` parameter to match the location of the Unity environment that you downloaded.\n",
    "\n",
    "- **Mac**: `\"path/to/Banana.app\"`\n",
    "- **Windows** (x86): `\"path/to/Banana_Windows_x86/Banana.exe\"`\n",
    "- **Windows** (x86_64): `\"path/to/Banana_Windows_x86_64/Banana.exe\"`\n",
    "- **Linux** (x86): `\"path/to/Banana_Linux/Banana.x86\"`\n",
    "- **Linux** (x86_64): `\"path/to/Banana_Linux/Banana.x86_64\"`\n",
    "- **Linux** (x86, headless): `\"path/to/Banana_Linux_NoVis/Banana.x86\"`\n",
    "- **Linux** (x86_64, headless): `\"path/to/Banana_Linux_NoVis/Banana.x86_64\"`\n",
    "\n",
    "For instance, if you are using a Mac, then you downloaded `Banana.app`.  If this file is in the same folder as the notebook, then the line below should appear as follows:\n",
    "```\n",
    "env = UnityEnvironment(file_name=\"Banana.app\")\n",
    "```"
   ],
   "metadata": {}
  },
  {
   "cell_type": "code",
   "execution_count": null,
   "source": [
    "#specify your environment path here\r\n",
    "env_path = \"D:/deep-reinforcement-learning/p1_navigation/Banana_Windows_x86_64/Banana.exe\"\r\n",
    "env = UnityEnvironment(file_name=env_path)"
   ],
   "outputs": [],
   "metadata": {}
  },
  {
   "cell_type": "markdown",
   "source": [
    "Environments contain **_brains_** which are responsible for deciding the actions of their associated agents. Here we check for the first brain available, and set it as the default brain we will be controlling from Python."
   ],
   "metadata": {}
  },
  {
   "cell_type": "code",
   "execution_count": null,
   "source": [
    "# get the default brain\r\n",
    "brain_name = env.brain_names[0]\r\n",
    "brain = env.brains[brain_name]"
   ],
   "outputs": [],
   "metadata": {}
  },
  {
   "cell_type": "markdown",
   "source": [
    "### 2. Examine the State and Action Spaces\n",
    "\n",
    "The simulation contains a single agent that navigates a large environment.  At each time step, it has four actions at its disposal:\n",
    "- `0` - walk forward \n",
    "- `1` - walk backward\n",
    "- `2` - turn left\n",
    "- `3` - turn right\n",
    "\n",
    "The state space has `37` dimensions and contains the agent's velocity, along with ray-based perception of objects around agent's forward direction.  A reward of `+1` is provided for collecting a yellow banana, and a reward of `-1` is provided for collecting a blue banana. \n",
    "\n",
    "Run the code cell below to print some information about the environment."
   ],
   "metadata": {}
  },
  {
   "cell_type": "code",
   "execution_count": null,
   "source": [],
   "outputs": [],
   "metadata": {}
  },
  {
   "cell_type": "code",
   "execution_count": null,
   "source": [
    "# reset the environment\r\n",
    "env_info = env.reset(train_mode=True)[brain_name]\r\n",
    "\r\n",
    "# number of agents in the environment\r\n",
    "print('Number of agents:', len(env_info.agents))\r\n",
    "\r\n",
    "# number of actions\r\n",
    "action_size = brain.vector_action_space_size\r\n",
    "print('Number of actions:', action_size)\r\n",
    "\r\n",
    "# examine the state space \r\n",
    "state = env_info.vector_observations[0]\r\n",
    "print('States look like:', state)\r\n",
    "state_size = len(state)\r\n",
    "print('States have length:', state_size)"
   ],
   "outputs": [],
   "metadata": {}
  },
  {
   "cell_type": "markdown",
   "source": [
    "### 3. Take Random Actions in the Environment\n",
    "\n",
    "In the next code cell, you will learn how to use the Python API to control the agent and receive feedback from the environment.\n",
    "\n",
    "Once this cell is executed, you will watch the agent's performance, if it selects an action (uniformly) at random with each time step.  A window should pop up that allows you to observe the agent, as it moves through the environment.  \n",
    "\n",
    "Of course, as part of the project, you'll have to change the code so that the agent is able to use its experience to gradually choose better actions when interacting with the environment!"
   ],
   "metadata": {}
  },
  {
   "cell_type": "code",
   "execution_count": null,
   "source": [
    "env_info = env.reset(train_mode=False)[brain_name] # reset the environment\r\n",
    "state = env_info.vector_observations[0]            # get the current state\r\n",
    "score = 0                                          # initialize the score\r\n",
    "while True:\r\n",
    "    action = np.random.randint(action_size)        # select an action\r\n",
    "    env_info = env.step(action)[brain_name]        # send the action to the environment\r\n",
    "    next_state = env_info.vector_observations[0]   # get the next state\r\n",
    "    reward = env_info.rewards[0]                   # get the reward\r\n",
    "    done = env_info.local_done[0]                  # see if episode has finished\r\n",
    "    score += reward                                # update the score\r\n",
    "    state = next_state                             # roll over the state to next time step\r\n",
    "    if done:                                       # exit loop if episode finished\r\n",
    "        break\r\n",
    "    \r\n",
    "print(\"Score: {}\".format(score))"
   ],
   "outputs": [],
   "metadata": {}
  },
  {
   "cell_type": "markdown",
   "source": [
    "When finished, you can close the environment."
   ],
   "metadata": {}
  },
  {
   "cell_type": "code",
   "execution_count": null,
   "source": [
    "env.close()"
   ],
   "outputs": [],
   "metadata": {}
  },
  {
   "cell_type": "markdown",
   "source": [
    "### 4. It's Your Turn!\n",
    "\n",
    "Now it's your turn to train your own agent to solve the environment!  When training the environment, set `train_mode=True`, so that the line for resetting the environment looks like the following:\n",
    "```python\n",
    "env_info = env.reset(train_mode=True)[brain_name]\n",
    "```"
   ],
   "metadata": {}
  },
  {
   "cell_type": "code",
   "execution_count": 1,
   "source": [
    "from agent import Agent\r\n",
    "from datetime import datetime\r\n",
    "from collections import deque\r\n",
    "import matplotlib.pyplot as plt\r\n",
    "from unityagents import UnityEnvironment\r\n",
    "import numpy as np\r\n",
    "\r\n",
    "\r\n",
    "def DeepQLearnTrain(agent, n_episodes=100, print_range=10, eps_start=1.0, eps_end=0.01, eps_decay=0.995, early_stop=13, verbose=False):\r\n",
    "    \"\"\"Deep Q-Learning trainer.\r\n",
    "    \r\n",
    "    Params\r\n",
    "    ======\r\n",
    "        n_episodes (int): maximum number of training episodes\r\n",
    "        print_range (int): range to print partials results\r\n",
    "        eps_start (float): starting value of epsilon, for epsilon-greedy action selection\r\n",
    "        eps_end (float): minimum value of epsilon\r\n",
    "        eps_decay (float): multiplicative factor (per episode) for decreasing epsilon\r\n",
    "        early_stop (int): Stop training when achieve a defined score respecting 10 min n_episodes.\r\n",
    "    \"\"\"\r\n",
    "    scores = []                        # list containing scores from each episode\r\n",
    "    scores_window = deque(maxlen=print_range)  # last 10 scores\r\n",
    "    scores_mean = []\r\n",
    "    eps = eps_start                    # initialize epsilon\r\n",
    "    for i in range(1, n_episodes+1):\r\n",
    "        env_info = env.reset(train_mode=True)[brain_name]\r\n",
    "        state = env_info.vector_observations[0]\r\n",
    "        score = 0\r\n",
    "        \r\n",
    "        while True:\r\n",
    "            action = agent.act(state, eps)\r\n",
    "            env_info = env.step(action)[brain_name]\r\n",
    "            next_state = env_info.vector_observations[0]\r\n",
    "            reward = env_info.rewards[0]\r\n",
    "            done = env_info.local_done[0] \r\n",
    "            agent.step(state, action, reward, next_state, done, i)\r\n",
    "            state = next_state\r\n",
    "            score += reward\r\n",
    "            if done:\r\n",
    "                break\r\n",
    "                \r\n",
    "        scores_window.append(score)       # save most recent score\r\n",
    "        scores.append(score)              # save most recent score\r\n",
    "        eps = max(eps_end, eps_decay*eps) # decrease epsilon\r\n",
    "        if verbose:\r\n",
    "            print('\\rEpisode {}\\tAverage Score: {:.2f}'.format(i, np.mean(scores_window)), end=\"\")\r\n",
    "            if i % print_range == 0:\r\n",
    "                print('\\rEpisode {}\\tAverage Score: {:.2f}'.format(i, np.mean(scores_window)))\r\n",
    "            \r\n",
    "        if np.mean(scores_window) >= early_stop and i > 10:\r\n",
    "            if verbose:\r\n",
    "                print('\\nEnvironment solved in {:d} episodes!\\tAverage Score: {:.2f}'.format(i, np.mean(scores_window)))\r\n",
    "            break\r\n",
    "            \r\n",
    "    return scores, i, np.mean(scores_window)\r\n"
   ],
   "outputs": [],
   "metadata": {}
  },
  {
   "cell_type": "code",
   "execution_count": 2,
   "source": [
    "env = UnityEnvironment(file_name=env_path)\r\n",
    "\r\n",
    "# get the default brain\r\n",
    "brain_name = env.brain_names[0]\r\n",
    "brain = env.brains[brain_name]\r\n",
    "\r\n",
    "# reset the environment\r\n",
    "env_info = env.reset(train_mode=True)[brain_name]\r\n",
    "\r\n",
    "# number of agents in the environment\r\n",
    "# number of actions\r\n",
    "action_size = brain.vector_action_space_size\r\n",
    "\r\n",
    "# examine the state space \r\n",
    "state = env_info.vector_observations[0]\r\n",
    "state_size = len(state)"
   ],
   "outputs": [
    {
     "output_type": "stream",
     "name": "stderr",
     "text": [
      "INFO:unityagents:\n",
      "'Academy' started successfully!\n",
      "Unity Academy name: Academy\n",
      "        Number of Brains: 1\n",
      "        Number of External Brains : 1\n",
      "        Lesson number : 0\n",
      "        Reset Parameters :\n",
      "\t\t\n",
      "Unity brain name: BananaBrain\n",
      "        Number of Visual Observations (per agent): 0\n",
      "        Vector Observation space type: continuous\n",
      "        Vector Observation space size (per agent): 37\n",
      "        Number of stacked Vector Observation: 1\n",
      "        Vector Action space type: discrete\n",
      "        Vector Action space size (per agent): 4\n",
      "        Vector Action descriptions: , , , \n"
     ]
    },
    {
     "output_type": "stream",
     "name": "stdout",
     "text": [
      "Number of agents: 1\n",
      "Number of actions: 4\n",
      "States look like: [1.         0.         0.         0.         0.84408134 0.\n",
      " 0.         1.         0.         0.0748472  0.         1.\n",
      " 0.         0.         0.25755    1.         0.         0.\n",
      " 0.         0.74177343 0.         1.         0.         0.\n",
      " 0.25854847 0.         0.         1.         0.         0.09355672\n",
      " 0.         1.         0.         0.         0.31969345 0.\n",
      " 0.        ]\n",
      "States have length: 37\n"
     ]
    }
   ],
   "metadata": {}
  },
  {
   "cell_type": "code",
   "execution_count": 3,
   "source": [
    "%%time\r\n",
    "\r\n",
    "\r\n",
    "\r\n",
    "\r\n",
    "env_info = env.reset(train_mode=True)[brain_name]\r\n",
    "\r\n",
    "agent = Agent(state_size=state_size, action_size=action_size, seed=199, nb_hidden=(64, 64),\r\n",
    "              learning_rate=0.001, memory_size=int(1e6), prioritized_memory=False, batch_size=64,\r\n",
    "              gamma=0.9, small_eps=0.03, update_frequency=4)\r\n",
    "\r\n",
    "scores, episodes, last_avg_score = DeepQLearnTrain(agent, n_episodes=600, early_stop=13, verbose=True)\r\n",
    "\r\n",
    "agent.save_model(\"bcmodel.pt\")\r\n",
    "\r\n",
    "# plot the scores\r\n",
    "fig = plt.figure()\r\n",
    "ax = fig.add_subplot(111)\r\n",
    "plt.plot(np.arange(len(scores)), scores)\r\n",
    "plt.ylabel('Average Score')\r\n",
    "plt.xlabel('Episode #')\r\n",
    "plt.savefig('bctraining.png')\r\n",
    "plt.show()\r\n",
    "\r\n",
    "# env.close()"
   ],
   "outputs": [
    {
     "output_type": "stream",
     "name": "stderr",
     "text": [
      "C:\\ProgramData\\Anaconda3\\envs\\drlnd\\lib\\site-packages\\torch\\cuda\\__init__.py:114: UserWarning: \n",
      "    Found GPU0 Tesla T4 which requires CUDA_VERSION >= 9000 for\n",
      "     optimal performance and fast startup time, but your PyTorch was compiled\n",
      "     with CUDA_VERSION 8000. Please install the correct PyTorch binary\n",
      "     using instructions from http://pytorch.org\n",
      "    \n",
      "  warnings.warn(incorrect_binary_warn % (d, name, 9000, CUDA_VERSION))\n"
     ]
    },
    {
     "output_type": "stream",
     "name": "stdout",
     "text": [
      "Episode 10\tAverage Score: 0.10\n",
      "Episode 20\tAverage Score: 0.80\n",
      "Episode 30\tAverage Score: 0.20\n",
      "Episode 40\tAverage Score: -0.10\n",
      "Episode 50\tAverage Score: 0.000\n",
      "Episode 60\tAverage Score: 1.20\n",
      "Episode 70\tAverage Score: 1.50\n",
      "Episode 80\tAverage Score: 1.70\n",
      "Episode 90\tAverage Score: 1.80\n",
      "Episode 100\tAverage Score: 1.60\n",
      "Episode 110\tAverage Score: 3.40\n",
      "Episode 120\tAverage Score: 3.70\n",
      "Episode 130\tAverage Score: 5.20\n",
      "Episode 140\tAverage Score: 4.20\n",
      "Episode 150\tAverage Score: 3.60\n",
      "Episode 160\tAverage Score: 6.00\n",
      "Episode 170\tAverage Score: 5.40\n",
      "Episode 180\tAverage Score: 5.60\n",
      "Episode 190\tAverage Score: 5.50\n",
      "Episode 200\tAverage Score: 6.30\n",
      "Episode 210\tAverage Score: 5.20\n",
      "Episode 220\tAverage Score: 6.40\n",
      "Episode 230\tAverage Score: 6.70\n",
      "Episode 240\tAverage Score: 7.10\n",
      "Episode 250\tAverage Score: 7.70\n",
      "Episode 260\tAverage Score: 8.10\n",
      "Episode 270\tAverage Score: 7.40\n",
      "Episode 280\tAverage Score: 9.60\n",
      "Episode 290\tAverage Score: 7.200\n",
      "Episode 300\tAverage Score: 8.70\n",
      "Episode 310\tAverage Score: 8.40\n",
      "Episode 320\tAverage Score: 9.300\n",
      "Episode 330\tAverage Score: 10.00\n",
      "Episode 340\tAverage Score: 11.50\n",
      "Episode 350\tAverage Score: 12.30\n",
      "Episode 360\tAverage Score: 8.900\n",
      "Episode 370\tAverage Score: 11.10\n",
      "Episode 380\tAverage Score: 9.600\n",
      "Episode 390\tAverage Score: 9.800\n",
      "Episode 400\tAverage Score: 11.30\n",
      "Episode 410\tAverage Score: 10.00\n",
      "Episode 420\tAverage Score: 11.90\n",
      "Episode 430\tAverage Score: 11.90\n",
      "Episode 435\tAverage Score: 13.00\n",
      "Environment solved in 435 episodes!\tAverage Score: 13.00\n"
     ]
    },
    {
     "output_type": "display_data",
     "data": {
      "text/plain": [
       "<Figure size 432x288 with 1 Axes>"
      ],
      "image/png": "[encoded data removed]"
     },
     "metadata": {
      "needs_background": "light"
     }
    },
    {
     "output_type": "stream",
     "name": "stdout",
     "text": [
      "Wall time: 16min 54s\n"
     ]
    }
   ],
   "metadata": {}
  },
  {
   "cell_type": "code",
   "execution_count": null,
   "source": [],
   "outputs": [],
   "metadata": {}
  }
 ],
 "metadata": {
  "kernelspec": {
   "display_name": "drlnd",
   "language": "python",
   "name": "drlnd"
  },
  "language_info": {
   "codemirror_mode": {
    "name": "ipython",
    "version": 3
   },
   "file_extension": ".py",
   "mimetype": "text/x-python",
   "name": "python",
   "nbconvert_exporter": "python",
   "pygments_lexer": "ipython3",
   "version": "3.6.9"
  }
 },
 "nbformat": 4,
 "nbformat_minor": 2
}